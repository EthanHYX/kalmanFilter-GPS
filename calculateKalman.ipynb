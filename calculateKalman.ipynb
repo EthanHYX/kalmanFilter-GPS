{
 "cells": [
  {
   "cell_type": "code",
   "execution_count": 1,
   "metadata": {},
   "outputs": [],
   "source": [
    "import numpy as np\n",
    "from pylab import ylim, title, ylabel, xlabel\n",
    "import matplotlib.pyplot as plt\n",
    "from kalman import SingleStateKalmanFilter"
   ]
  },
  {
   "cell_type": "code",
   "execution_count": 2,
   "metadata": {},
   "outputs": [],
   "source": [
    "import pandas as pd"
   ]
  },
  {
   "cell_type": "code",
   "execution_count": 3,
   "metadata": {},
   "outputs": [],
   "source": [
    "df = pd.read_csv(\"datagps.txt\",sep=\",\")\n"
   ]
  },
  {
   "cell_type": "code",
   "execution_count": 4,
   "metadata": {},
   "outputs": [],
   "source": [
    "nilaiFix = np.full((1,len(df.Latitude)),-7.355481)\n",
    "nilaiFix1 = np.full((1,len(df.Latitude)),112.774268)"
   ]
  },
  {
   "cell_type": "code",
   "execution_count": 5,
   "metadata": {},
   "outputs": [],
   "source": [
    "df1 = pd.DataFrame({\"fixLatitude\":nilaiFix[0,:]})"
   ]
  },
  {
   "cell_type": "code",
   "execution_count": 6,
   "metadata": {},
   "outputs": [],
   "source": [
    "df2 = pd.DataFrame({\"fixLongitude\":nilaiFix1[0,:]})"
   ]
  },
  {
   "cell_type": "code",
   "execution_count": 7,
   "metadata": {},
   "outputs": [],
   "source": [
    "df = pd.concat([df,df1,df2],axis=1)"
   ]
  },
  {
   "cell_type": "code",
   "execution_count": 8,
   "metadata": {},
   "outputs": [],
   "source": [
    "pdata = len(df.Latitude)"
   ]
  },
  {
   "cell_type": "code",
   "execution_count": 9,
   "metadata": {},
   "outputs": [],
   "source": [
    "A = 1  # No process innovation\n",
    "C = 1  # Measurement\n",
    "B = 0  # No control input\n",
    "Q = 0.000001 # Process covariance\n",
    "R = 1  # Measurement covariance\n",
    "x = -7.355475  # Initial estimate\n",
    "P = 1  # Initial covariance"
   ]
  },
  {
   "cell_type": "code",
   "execution_count": 13,
   "metadata": {},
   "outputs": [],
   "source": [
    "kalman_filter = SingleStateKalmanFilter(A, B, C, x, P, Q, R)\n",
    "kalman_estimasi = []"
   ]
  },
  {
   "cell_type": "code",
   "execution_count": 14,
   "metadata": {},
   "outputs": [],
   "source": [
    "df.reset_index(drop=True,inplace=True)"
   ]
  },
  {
   "cell_type": "code",
   "execution_count": 15,
   "metadata": {},
   "outputs": [],
   "source": [
    "for i in range(pdata):\n",
    "    kalman_filter.step(0,df[\"Latitude\"][i])\n",
    "    kalman_estimasi.append(kalman_filter.current_state())"
   ]
  },
  {
   "cell_type": "code",
   "execution_count": 16,
   "metadata": {},
   "outputs": [
    {
     "data": {
      "text/html": [
       "<div>\n",
       "<style scoped>\n",
       "    .dataframe tbody tr th:only-of-type {\n",
       "        vertical-align: middle;\n",
       "    }\n",
       "\n",
       "    .dataframe tbody tr th {\n",
       "        vertical-align: top;\n",
       "    }\n",
       "\n",
       "    .dataframe thead th {\n",
       "        text-align: right;\n",
       "    }\n",
       "</style>\n",
       "<table border=\"1\" class=\"dataframe\">\n",
       "  <thead>\n",
       "    <tr style=\"text-align: right;\">\n",
       "      <th></th>\n",
       "      <th>Latitude</th>\n",
       "      <th>Longitude</th>\n",
       "      <th>fixLatitude</th>\n",
       "      <th>fixLongitude</th>\n",
       "    </tr>\n",
       "  </thead>\n",
       "  <tbody>\n",
       "    <tr>\n",
       "      <th>0</th>\n",
       "      <td>-7.355488</td>\n",
       "      <td>112.774273</td>\n",
       "      <td>-7.355481</td>\n",
       "      <td>112.774268</td>\n",
       "    </tr>\n",
       "    <tr>\n",
       "      <th>1</th>\n",
       "      <td>-7.355489</td>\n",
       "      <td>112.774277</td>\n",
       "      <td>-7.355481</td>\n",
       "      <td>112.774268</td>\n",
       "    </tr>\n",
       "    <tr>\n",
       "      <th>2</th>\n",
       "      <td>-7.355489</td>\n",
       "      <td>112.774277</td>\n",
       "      <td>-7.355481</td>\n",
       "      <td>112.774268</td>\n",
       "    </tr>\n",
       "    <tr>\n",
       "      <th>3</th>\n",
       "      <td>-7.355489</td>\n",
       "      <td>112.774277</td>\n",
       "      <td>-7.355481</td>\n",
       "      <td>112.774268</td>\n",
       "    </tr>\n",
       "    <tr>\n",
       "      <th>4</th>\n",
       "      <td>-7.355489</td>\n",
       "      <td>112.774277</td>\n",
       "      <td>-7.355481</td>\n",
       "      <td>112.774268</td>\n",
       "    </tr>\n",
       "  </tbody>\n",
       "</table>\n",
       "</div>"
      ],
      "text/plain": [
       "   Latitude   Longitude  fixLatitude  fixLongitude\n",
       "0 -7.355488  112.774273    -7.355481    112.774268\n",
       "1 -7.355489  112.774277    -7.355481    112.774268\n",
       "2 -7.355489  112.774277    -7.355481    112.774268\n",
       "3 -7.355489  112.774277    -7.355481    112.774268\n",
       "4 -7.355489  112.774277    -7.355481    112.774268"
      ]
     },
     "execution_count": 16,
     "metadata": {},
     "output_type": "execute_result"
    }
   ],
   "source": [
    "df.head()"
   ]
  },
  {
   "cell_type": "code",
   "execution_count": 17,
   "metadata": {
    "scrolled": true
   },
   "outputs": [
    {
     "data": {
      "image/png": "[encoded data removed]",
      "text/plain": [
       "<Figure size 432x288 with 1 Axes>"
      ]
     },
     "metadata": {
      "needs_background": "light"
     },
     "output_type": "display_data"
    }
   ],
   "source": [
    "plt.plot(df.Latitude,'r')\n",
    "plt.plot(df.fixLatitude,\"k\")\n",
    "plt.plot(kalman_estimasi,\"b\")\n",
    "plt.show()"
   ]
  },
  {
   "cell_type": "code",
   "execution_count": 18,
   "metadata": {},
   "outputs": [],
   "source": [
    "A = 1  # No process innovation\n",
    "C = 1  # Measurement\n",
    "B = 0  # No control input\n",
    "Q = 0.000001 # Process covariance\n",
    "R = 1  # Measurement covariance\n",
    "x = 112.774277  # Initial estimate\n",
    "P = 1  # Initial covariance\n",
    "kalman_filter_long = SingleStateKalmanFilter(A, B, C, x, P, Q, R)\n",
    "kalman_estimasi_long = []\n",
    "for i in range(pdata):\n",
    "    kalman_filter_long.step(0,df[\"Longitude\"][i])\n",
    "    kalman_estimasi_long.append(kalman_filter_long.current_state())\n"
   ]
  },
  {
   "cell_type": "code",
   "execution_count": 19,
   "metadata": {},
   "outputs": [
    {
     "data": {
      "image/png": "[encoded data removed]",
      "text/plain": [
       "<Figure size 432x288 with 1 Axes>"
      ]
     },
     "metadata": {
      "needs_background": "light"
     },
     "output_type": "display_data"
    }
   ],
   "source": [
    "plt.plot(df.Longitude,'r')\n",
    "plt.plot(df.fixLongitude,\"k\")\n",
    "plt.plot(kalman_estimasi_long,\"b\")\n",
    "plt.show()"
   ]
  },
  {
   "cell_type": "code",
   "execution_count": 22,
   "metadata": {},
   "outputs": [],
   "source": [
    "df[\"kalmanLongitude\"]=kalman_estimasi_long"
   ]
  },
  {
   "cell_type": "code",
   "execution_count": 25,
   "metadata": {},
   "outputs": [],
   "source": [
    "df[\"kalmanLatitude\"]=kalman_estimasi"
   ]
  },
  {
   "cell_type": "code",
   "execution_count": 27,
   "metadata": {},
   "outputs": [
    {
     "data": {
      "text/html": [
       "<div>\n",
       "<style scoped>\n",
       "    .dataframe tbody tr th:only-of-type {\n",
       "        vertical-align: middle;\n",
       "    }\n",
       "\n",
       "    .dataframe tbody tr th {\n",
       "        vertical-align: top;\n",
       "    }\n",
       "\n",
       "    .dataframe thead th {\n",
       "        text-align: right;\n",
       "    }\n",
       "</style>\n",
       "<table border=\"1\" class=\"dataframe\">\n",
       "  <thead>\n",
       "    <tr style=\"text-align: right;\">\n",
       "      <th></th>\n",
       "      <th>Latitude</th>\n",
       "      <th>Longitude</th>\n",
       "      <th>fixLatitude</th>\n",
       "      <th>fixLongitude</th>\n",
       "      <th>kalmanLongitude</th>\n",
       "      <th>kalmanLatitude</th>\n",
       "    </tr>\n",
       "  </thead>\n",
       "  <tbody>\n",
       "    <tr>\n",
       "      <th>count</th>\n",
       "      <td>854.000000</td>\n",
       "      <td>854.000000</td>\n",
       "      <td>8.540000e+02</td>\n",
       "      <td>8.540000e+02</td>\n",
       "      <td>854.000000</td>\n",
       "      <td>854.000000</td>\n",
       "    </tr>\n",
       "    <tr>\n",
       "      <th>mean</th>\n",
       "      <td>-7.355517</td>\n",
       "      <td>112.774302</td>\n",
       "      <td>-7.355481e+00</td>\n",
       "      <td>1.127743e+02</td>\n",
       "      <td>112.774300</td>\n",
       "      <td>-7.355508</td>\n",
       "    </tr>\n",
       "    <tr>\n",
       "      <th>std</th>\n",
       "      <td>0.000013</td>\n",
       "      <td>0.000011</td>\n",
       "      <td>8.886989e-16</td>\n",
       "      <td>1.421918e-14</td>\n",
       "      <td>0.000005</td>\n",
       "      <td>0.000008</td>\n",
       "    </tr>\n",
       "    <tr>\n",
       "      <th>min</th>\n",
       "      <td>-7.355562</td>\n",
       "      <td>112.774253</td>\n",
       "      <td>-7.355481e+00</td>\n",
       "      <td>1.127743e+02</td>\n",
       "      <td>112.774275</td>\n",
       "      <td>-7.355518</td>\n",
       "    </tr>\n",
       "    <tr>\n",
       "      <th>25%</th>\n",
       "      <td>-7.355523</td>\n",
       "      <td>112.774296</td>\n",
       "      <td>-7.355481e+00</td>\n",
       "      <td>1.127743e+02</td>\n",
       "      <td>112.774300</td>\n",
       "      <td>-7.355515</td>\n",
       "    </tr>\n",
       "    <tr>\n",
       "      <th>50%</th>\n",
       "      <td>-7.355518</td>\n",
       "      <td>112.774303</td>\n",
       "      <td>-7.355481e+00</td>\n",
       "      <td>1.127743e+02</td>\n",
       "      <td>112.774300</td>\n",
       "      <td>-7.355509</td>\n",
       "    </tr>\n",
       "    <tr>\n",
       "      <th>75%</th>\n",
       "      <td>-7.355505</td>\n",
       "      <td>112.774311</td>\n",
       "      <td>-7.355481e+00</td>\n",
       "      <td>1.127743e+02</td>\n",
       "      <td>112.774303</td>\n",
       "      <td>-7.355502</td>\n",
       "    </tr>\n",
       "    <tr>\n",
       "      <th>max</th>\n",
       "      <td>-7.355486</td>\n",
       "      <td>112.774319</td>\n",
       "      <td>-7.355481e+00</td>\n",
       "      <td>1.127743e+02</td>\n",
       "      <td>112.774305</td>\n",
       "      <td>-7.355481</td>\n",
       "    </tr>\n",
       "  </tbody>\n",
       "</table>\n",
       "</div>"
      ],
      "text/plain": [
       "         Latitude   Longitude   fixLatitude  fixLongitude  kalmanLongitude  \\\n",
       "count  854.000000  854.000000  8.540000e+02  8.540000e+02       854.000000   \n",
       "mean    -7.355517  112.774302 -7.355481e+00  1.127743e+02       112.774300   \n",
       "std      0.000013    0.000011  8.886989e-16  1.421918e-14         0.000005   \n",
       "min     -7.355562  112.774253 -7.355481e+00  1.127743e+02       112.774275   \n",
       "25%     -7.355523  112.774296 -7.355481e+00  1.127743e+02       112.774300   \n",
       "50%     -7.355518  112.774303 -7.355481e+00  1.127743e+02       112.774300   \n",
       "75%     -7.355505  112.774311 -7.355481e+00  1.127743e+02       112.774303   \n",
       "max     -7.355486  112.774319 -7.355481e+00  1.127743e+02       112.774305   \n",
       "\n",
       "       kalmanLatitude  \n",
       "count      854.000000  \n",
       "mean        -7.355508  \n",
       "std          0.000008  \n",
       "min         -7.355518  \n",
       "25%         -7.355515  \n",
       "50%         -7.355509  \n",
       "75%         -7.355502  \n",
       "max         -7.355481  "
      ]
     },
     "execution_count": 27,
     "metadata": {},
     "output_type": "execute_result"
    }
   ],
   "source": [
    "df.describe()"
   ]
  }
 ],
 "metadata": {
  "kernelspec": {
   "display_name": "Python 3",
   "language": "python",
   "name": "python3"
  },
  "language_info": {
   "codemirror_mode": {
    "name": "ipython",
    "version": 3
   },
   "file_extension": ".py",
   "mimetype": "text/x-python",
   "name": "python",
   "nbconvert_exporter": "python",
   "pygments_lexer": "ipython3",
   "version": "3.5.6"
  }
 },
 "nbformat": 4,
 "nbformat_minor": 2
}
